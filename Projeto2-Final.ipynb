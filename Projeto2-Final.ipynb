{
 "cells": [
  {
   "cell_type": "markdown",
   "metadata": {},
   "source": [
    "# Projeto 2 - Ciência dos Dados"
   ]
  },
  {
   "cell_type": "markdown",
   "metadata": {},
   "source": [
    "Nome: Ana Clara Carneiro\n",
    "\n",
    "Nome: João Pedro Varella"
   ]
  },
  {
   "cell_type": "markdown",
   "metadata": {},
   "source": [
    "___\n",
    "# Classificador automático de sentimento\n"
   ]
  },
  {
   "cell_type": "markdown",
   "metadata": {},
   "source": [
    "Neste trabalho foi realizado a construção de um classificador de sentimentos por meio da utilização de tweets para definir se eles são relevantes ou irrelevantes para a marca selecionada, sendo ela a Brahma. Este classificador foi montado por meio do método de Naive-Bayes juntamente com a suavização de Laplace."
   ]
  },
  {
   "cell_type": "markdown",
   "metadata": {},
   "source": [
    "## Preparando o ambiente no jupyter:"
   ]
  },
  {
   "cell_type": "code",
   "execution_count": 669,
   "metadata": {},
   "outputs": [],
   "source": [
    "%%capture\n",
    "!pip install tweepy"
   ]
  },
  {
   "cell_type": "code",
   "execution_count": 670,
   "metadata": {
    "jupyter": {
     "outputs_hidden": true
    }
   },
   "outputs": [],
   "source": [
    "import tweepy\n",
    "import math\n",
    "import os.path\n",
    "import pandas as pd\n",
    "import json\n",
    "from random import shuffle\n",
    "from emoji import UNICODE_EMOJI\n",
    "import numpy as np"
   ]
  },
  {
   "cell_type": "markdown",
   "metadata": {},
   "source": [
    "___\n",
    "## Autenticando no  Twitter\n",
    "\n",
    "* Conta: @VrauAna"
   ]
  },
  {
   "cell_type": "code",
   "execution_count": 671,
   "metadata": {
    "jupyter": {
     "outputs_hidden": true
    }
   },
   "outputs": [],
   "source": [
    "with open('auth.pass') as fp:    \n",
    "    data = json.load(fp)\n",
    "    \n",
    "auth = tweepy.OAuthHandler(data['consumer_key'], data['consumer_secret'])\n",
    "auth.set_access_token(data['access_token'], data['access_token_secret'])"
   ]
  },
  {
   "cell_type": "markdown",
   "metadata": {},
   "source": [
    "___\n",
    "## Etapas do projeto:"
   ]
  },
  {
   "cell_type": "markdown",
   "metadata": {},
   "source": [
    "### Escolha de um produto e coleta das mensagens\n"
   ]
  },
  {
   "cell_type": "code",
   "execution_count": 672,
   "metadata": {
    "jupyter": {
     "outputs_hidden": true
    }
   },
   "outputs": [],
   "source": [
    "produto = \"brahma\"\n",
    "n = 500\n",
    "t = 300\n",
    "lang = 'pt'"
   ]
  },
  {
   "cell_type": "markdown",
   "metadata": {},
   "source": [
    "Capturando os dados do twitter:"
   ]
  },
  {
   "cell_type": "code",
   "execution_count": 673,
   "metadata": {
    "jupyter": {
     "outputs_hidden": true
    }
   },
   "outputs": [],
   "source": [
    "api = tweepy.API(auth)\n",
    "i = 1\n",
    "msgs = []\n",
    "for msg in tweepy.Cursor(api.search, q=produto, lang=lang, tweet_mode=\"extended\").items(): \n",
    "    if (not msg.retweeted) and ('RT' not in msg.full_text):\n",
    "        msgs.append(msg.full_text.lower())\n",
    "        i += 1\n",
    "    if i > n:\n",
    "        break\n",
    "shuffle(msgs)"
   ]
  },
  {
   "cell_type": "markdown",
   "metadata": {},
   "source": [
    "Salvando os dados em uma planilha Excel:"
   ]
  },
  {
   "cell_type": "code",
   "execution_count": 674,
   "metadata": {
    "jupyter": {
     "outputs_hidden": true
    }
   },
   "outputs": [],
   "source": [
    "if not os.path.isfile('./{0}.xlsx'.format(produto)):\n",
    "    \n",
    "    writer = pd.ExcelWriter('{0}.xlsx'.format(produto))\n",
    "    dft = pd.DataFrame({'Treinamento' : pd.Series(msgs[:t])})\n",
    "    dft.to_excel(excel_writer = writer, sheet_name = 'Treinamento', index = False)\n",
    "\n",
    "    dfc = pd.DataFrame({'Teste' : pd.Series(msgs[t:])})\n",
    "    dfc.to_excel(excel_writer = writer, sheet_name = 'Teste', index = False)\n",
    "    \n",
    "    writer.save()"
   ]
  },
  {
   "cell_type": "markdown",
   "metadata": {},
   "source": [
    "___\n",
    "### Classificando as mensagens na coragem\n",
    "\n",
    "Esta etapa é manual. Faça a mesma pelo Excel."
   ]
  },
  {
   "cell_type": "markdown",
   "metadata": {},
   "source": [
    "___\n",
    "### Montando o Classificador Naive-Bayes\n",
    "\n",
    "Considerando apenas as mensagens da planilha Treinamento, ensine  seu classificador."
   ]
  },
  {
   "cell_type": "code",
   "execution_count": 675,
   "metadata": {},
   "outputs": [],
   "source": [
    "import pandas as pd\n",
    "import numpy as np\n",
    "\n",
    "from IPython.display import display\n",
    "\n",
    "pd.options.display.max_rows = 13"
   ]
  },
  {
   "cell_type": "code",
   "execution_count": 676,
   "metadata": {},
   "outputs": [],
   "source": [
    "excel = pd.read_excel(\"brahma.xlsx\")\n",
    "excel1 = pd.read_excel(\"brahma.xlsx\",sheet_name=\"Teste\")\n",
    "treinamento = excel.loc[:,\"Treinamento\"]\n",
    "teste = excel1.loc[:,\"Teste\"]\n",
    "trein_class=excel.loc[:,\"Classificando Tweets\"]\n",
    "test_class=excel.loc[:,\"Classificando Tweets\"]\n",
    "tabela_teste = pd.read_excel(\"brahma.xlsx\",1)"
   ]
  },
  {
   "cell_type": "markdown",
   "metadata": {},
   "source": [
    "### Limpeza do Treinamento\n",
    "Primeiramente foi realizado a limpeza da base de dados do treinamento para facilitar na classificação. Assim, foram retirados as pontuações desnecessárias, além de corrigir e adicionar espaços entre palavras/emojis e emojis/emojis. "
   ]
  },
  {
   "cell_type": "code",
   "execution_count": 677,
   "metadata": {},
   "outputs": [],
   "source": [
    "import re \n",
    "\n",
    "def cleanup(text):\n",
    "    punctuation = '[\\!-.,:?;]' \n",
    "    pattern = re.compile(punctuation)\n",
    "    text_subbed = re.sub(pattern, ' ', text)\n",
    "    return text_subbed\n",
    "\n",
    "strips = []\n",
    "splits = []\n",
    "limpando_trein = []\n",
    "for st in treinamento:\n",
    "    strip = st.strip()\n",
    "    strips.append(strip)\n",
    "for sp in strips:\n",
    "    split = ' '.join(sp.split())\n",
    "    splits.append(split)\n",
    "for linha in splits:\n",
    "    lower=linha.lower()\n",
    "    limpando_trein.append(cleanup(lower))\n",
    "    \n",
    "#espaçando emojis\n",
    "def espaço_emoji(i):\n",
    "    return i in UNICODE_EMOJI\n",
    "def add_space(text):\n",
    "    return ''.join(' ' + char if espaço_emoji(char) else char for char in text).strip()\n",
    "treinamento_limpo=[add_space(text) for text in limpando_trein]\n"
   ]
  },
  {
   "cell_type": "markdown",
   "metadata": {},
   "source": [
    "### Limpeza do teste\n",
    "Depois foi realizado a limpeza da base de dados do teste. Assim, foram retirados as pontuações desnecessárias, além de corrigir e adicionar espaços entre palavras/emojis e emojis/emojis. "
   ]
  },
  {
   "cell_type": "code",
   "execution_count": 678,
   "metadata": {},
   "outputs": [],
   "source": [
    "tts_raw1 = pd.read_excel(\"brahma.xlsx\",sheet_name=\"Teste\")\n",
    "tt1 = tts_raw1.loc[:,\"Teste\"]\n",
    "\n",
    "import re \n",
    "\n",
    "def cleanup(text):\n",
    "    punctuation = '[\\!-.,:?;]' \n",
    "    pattern = re.compile(punctuation)\n",
    "    text_subbed = re.sub(pattern, ' ', text)\n",
    "    return text_subbed\n",
    "\n",
    "\n",
    "strips1 = []\n",
    "splits1 = []\n",
    "limpando_test = []\n",
    "\n",
    "for st in teste:\n",
    "    strip = st.strip()\n",
    "    strips1.append(strip)\n",
    "for sp in strips1:\n",
    "    split = ' '.join(sp.split())\n",
    "    splits1.append(split)\n",
    "for linha in splits1:\n",
    "    lower=linha.lower()\n",
    "    limpando_test.append(cleanup(lower))\n",
    "    \n",
    "#espaçando emojis\n",
    "def espaço_emoji(i):\n",
    "    return i in UNICODE_EMOJI\n",
    "def add_space(text):\n",
    "    return ''.join(' ' + char if espaço_emoji(char) else char for char in text).strip()\n",
    "teste_limpo=[add_space(text) for text in limpando_test]\n",
    "df_teste=pd.DataFrame(teste_limpo,columns=[\"Teste\"])"
   ]
  },
  {
   "cell_type": "markdown",
   "metadata": {},
   "source": [
    "### Tabela de frequência absoluta e relativa\n",
    "Para a construção no Naive Bayes, foi necessário realizar a construção das tabelas de frequência absoluta, para ver quantas vezes as palavras se repetem. e de frequência relativa das palavras que apareceram no excel de treinamento, para calcular a probabilidade de aparição.\n",
    "\n",
    "#### DataFrame com classificação manual"
   ]
  },
  {
   "cell_type": "code",
   "execution_count": 679,
   "metadata": {},
   "outputs": [
    {
     "data": {
      "text/html": [
       "<div>\n",
       "<style scoped>\n",
       "    .dataframe tbody tr th:only-of-type {\n",
       "        vertical-align: middle;\n",
       "    }\n",
       "\n",
       "    .dataframe tbody tr th {\n",
       "        vertical-align: top;\n",
       "    }\n",
       "\n",
       "    .dataframe thead th {\n",
       "        text-align: right;\n",
       "    }\n",
       "</style>\n",
       "<table border=\"1\" class=\"dataframe\">\n",
       "  <thead>\n",
       "    <tr style=\"text-align: right;\">\n",
       "      <th></th>\n",
       "      <th>Treinamento</th>\n",
       "      <th>Classificação</th>\n",
       "    </tr>\n",
       "  </thead>\n",
       "  <tbody>\n",
       "    <tr>\n",
       "      <th>0</th>\n",
       "      <td>eu gosto de lanche brahma cafune brahma  atenç...</td>\n",
       "      <td>1</td>\n",
       "    </tr>\n",
       "    <tr>\n",
       "      <th>1</th>\n",
       "      <td>vou ter que tomar uma brahma  🥵</td>\n",
       "      <td>1</td>\n",
       "    </tr>\n",
       "    <tr>\n",
       "      <th>2</th>\n",
       "      <td>a forma que a brahma cai bem em qualquer momen...</td>\n",
       "      <td>1</td>\n",
       "    </tr>\n",
       "    <tr>\n",
       "      <th>3</th>\n",
       "      <td>visão da resenha tô com um engradado de latão ...</td>\n",
       "      <td>0</td>\n",
       "    </tr>\n",
       "    <tr>\n",
       "      <th>4</th>\n",
       "      <td>queria uma brahma geladassa agora</td>\n",
       "      <td>1</td>\n",
       "    </tr>\n",
       "  </tbody>\n",
       "</table>\n",
       "</div>"
      ],
      "text/plain": [
       "                                         Treinamento  Classificação\n",
       "0  eu gosto de lanche brahma cafune brahma  atenç...              1\n",
       "1                    vou ter que tomar uma brahma  🥵              1\n",
       "2  a forma que a brahma cai bem em qualquer momen...              1\n",
       "3  visão da resenha tô com um engradado de latão ...              0\n",
       "4                  queria uma brahma geladassa agora              1"
      ]
     },
     "execution_count": 679,
     "metadata": {},
     "output_type": "execute_result"
    }
   ],
   "source": [
    "df= pd.DataFrame(treinamento_limpo, columns = ['Treinamento'])\n",
    "dfn=pd.DataFrame(resultados,columns=[\"Treinamento\"])\n",
    "dfn[\"Classificação\"]=b\n",
    "dfn.head()"
   ]
  },
  {
   "cell_type": "markdown",
   "metadata": {},
   "source": [
    "#### Tabela de frequência absoluta do treinamento"
   ]
  },
  {
   "cell_type": "code",
   "execution_count": 680,
   "metadata": {},
   "outputs": [
    {
     "data": {
      "text/plain": [
       "brahma    305\n",
       "uma       135\n",
       "só         97\n",
       "de         74\n",
       "e          72\n",
       "dtype: int64"
      ]
     },
     "execution_count": 680,
     "metadata": {},
     "output_type": "execute_result"
    }
   ],
   "source": [
    "df = pd.DataFrame(treinamento_limpo, columns = ['Treinamento'])\n",
    "trein_string = ' '.join(df.loc[:,'Treinamento'])\n",
    "quant_pal_trein = pd.Series(serie_tt.split())\n",
    "tabela_absoluta= quant_pal_trein.value_counts()\n",
    "tabela_absoluta.head()"
   ]
  },
  {
   "cell_type": "markdown",
   "metadata": {},
   "source": [
    "#### Tabela de frequência relativa do treinamento"
   ]
  },
  {
   "cell_type": "code",
   "execution_count": 681,
   "metadata": {},
   "outputs": [
    {
     "data": {
      "text/plain": [
       "brahma    0.095791\n",
       "uma       0.042399\n",
       "só        0.030465\n",
       "de        0.023241\n",
       "e         0.022613\n",
       "dtype: float64"
      ]
     },
     "execution_count": 681,
     "metadata": {},
     "output_type": "execute_result"
    }
   ],
   "source": [
    "tabela_relativa = quant_pal_trein.value_counts(True)\n",
    "tabela_relativa.head()"
   ]
  },
  {
   "cell_type": "markdown",
   "metadata": {},
   "source": [
    "#### Tabelas com os Tweets relevantes e irrelevantes do treinamento"
   ]
  },
  {
   "cell_type": "code",
   "execution_count": 682,
   "metadata": {},
   "outputs": [
    {
     "data": {
      "text/html": [
       "<div>\n",
       "<style scoped>\n",
       "    .dataframe tbody tr th:only-of-type {\n",
       "        vertical-align: middle;\n",
       "    }\n",
       "\n",
       "    .dataframe tbody tr th {\n",
       "        vertical-align: top;\n",
       "    }\n",
       "\n",
       "    .dataframe thead th {\n",
       "        text-align: right;\n",
       "    }\n",
       "</style>\n",
       "<table border=\"1\" class=\"dataframe\">\n",
       "  <thead>\n",
       "    <tr style=\"text-align: right;\">\n",
       "      <th></th>\n",
       "      <th>Treinamento</th>\n",
       "      <th>Classificação</th>\n",
       "    </tr>\n",
       "  </thead>\n",
       "  <tbody>\n",
       "    <tr>\n",
       "      <th>0</th>\n",
       "      <td>eu gosto de lanche brahma cafune brahma  atenç...</td>\n",
       "      <td>1</td>\n",
       "    </tr>\n",
       "    <tr>\n",
       "      <th>1</th>\n",
       "      <td>vou ter que tomar uma brahma  🥵</td>\n",
       "      <td>1</td>\n",
       "    </tr>\n",
       "    <tr>\n",
       "      <th>2</th>\n",
       "      <td>a forma que a brahma cai bem em qualquer momen...</td>\n",
       "      <td>1</td>\n",
       "    </tr>\n",
       "    <tr>\n",
       "      <th>4</th>\n",
       "      <td>queria uma brahma geladassa agora</td>\n",
       "      <td>1</td>\n",
       "    </tr>\n",
       "    <tr>\n",
       "      <th>5</th>\n",
       "      <td>brahma gelada e banho de mar  🏖 🎈 🎈</td>\n",
       "      <td>1</td>\n",
       "    </tr>\n",
       "  </tbody>\n",
       "</table>\n",
       "</div>"
      ],
      "text/plain": [
       "                                         Treinamento  Classificação\n",
       "0  eu gosto de lanche brahma cafune brahma  atenç...              1\n",
       "1                    vou ter que tomar uma brahma  🥵              1\n",
       "2  a forma que a brahma cai bem em qualquer momen...              1\n",
       "4                  queria uma brahma geladassa agora              1\n",
       "5                brahma gelada e banho de mar  🏖 🎈 🎈              1"
      ]
     },
     "execution_count": 682,
     "metadata": {},
     "output_type": "execute_result"
    }
   ],
   "source": [
    "relevante = dfn[dfn.Classificação==1]\n",
    "relevante_string = ' '.join(relevante.loc[:,'Treinamento'])\n",
    "relev = pd.Series(relevante_string.split())\n",
    "tab_freq_relev= relev.value_counts(True)\n",
    "relevante.head()"
   ]
  },
  {
   "cell_type": "code",
   "execution_count": 683,
   "metadata": {},
   "outputs": [
    {
     "data": {
      "text/html": [
       "<div>\n",
       "<style scoped>\n",
       "    .dataframe tbody tr th:only-of-type {\n",
       "        vertical-align: middle;\n",
       "    }\n",
       "\n",
       "    .dataframe tbody tr th {\n",
       "        vertical-align: top;\n",
       "    }\n",
       "\n",
       "    .dataframe thead th {\n",
       "        text-align: right;\n",
       "    }\n",
       "</style>\n",
       "<table border=\"1\" class=\"dataframe\">\n",
       "  <thead>\n",
       "    <tr style=\"text-align: right;\">\n",
       "      <th></th>\n",
       "      <th>Treinamento</th>\n",
       "      <th>Classificação</th>\n",
       "    </tr>\n",
       "  </thead>\n",
       "  <tbody>\n",
       "    <tr>\n",
       "      <th>3</th>\n",
       "      <td>visão da resenha tô com um engradado de latão ...</td>\n",
       "      <td>0</td>\n",
       "    </tr>\n",
       "    <tr>\n",
       "      <th>6</th>\n",
       "      <td>se sobe balão desce   latão d brahma</td>\n",
       "      <td>0</td>\n",
       "    </tr>\n",
       "    <tr>\n",
       "      <th>9</th>\n",
       "      <td>o que meu pai quer fazer comigo quando eu comp...</td>\n",
       "      <td>0</td>\n",
       "    </tr>\n",
       "    <tr>\n",
       "      <th>11</th>\n",
       "      <td>doido pra chegar sexta logo vou pia na praia m...</td>\n",
       "      <td>0</td>\n",
       "    </tr>\n",
       "    <tr>\n",
       "      <th>22</th>\n",
       "      <td>caralho  alguém aí pra tomar uma brahma comigo</td>\n",
       "      <td>0</td>\n",
       "    </tr>\n",
       "  </tbody>\n",
       "</table>\n",
       "</div>"
      ],
      "text/plain": [
       "                                          Treinamento  Classificação\n",
       "3   visão da resenha tô com um engradado de latão ...              0\n",
       "6                se sobe balão desce   latão d brahma              0\n",
       "9   o que meu pai quer fazer comigo quando eu comp...              0\n",
       "11  doido pra chegar sexta logo vou pia na praia m...              0\n",
       "22     caralho  alguém aí pra tomar uma brahma comigo              0"
      ]
     },
     "execution_count": 683,
     "metadata": {},
     "output_type": "execute_result"
    }
   ],
   "source": [
    "irrelevante=dfn[dfn.Classificação==0]\n",
    "irrelevante_string = ' '.join(irrelevante.loc[:,'Treinamento'])\n",
    "irrelev = pd.Series(irrelevante_string.split())\n",
    "tab_freq_relev= irrelev.value_counts(True)\n",
    "irrelevante.head()"
   ]
  },
  {
   "cell_type": "markdown",
   "metadata": {},
   "source": [
    "### Classificador\n",
    "Após recolher todas as informações necessárias para a construção do classificador, foi feito a separação das palavras de cada tweet e a construção de dicionários para a melhor visualização da frequência absoluta de cada palavra, onde elas representam as chaves e suas frequências seus valores. "
   ]
  },
  {
   "cell_type": "code",
   "execution_count": 684,
   "metadata": {
    "scrolled": false
   },
   "outputs": [],
   "source": [
    "teste=[]\n",
    "split_teste = []\n",
    "teste_lis=df_teste.loc[:,\"Teste\"]\n",
    "for tt in teste_lis:\n",
    "    teste.append(tt)\n",
    "    for palavras in teste_lis:\n",
    "        novo = palavras.split()\n",
    "        split_teste.append(novo)\n",
    "        \n",
    "dic_relev = relev.value_counts().to_dict()\n",
    "dic_irrelev = irrelev.value_counts().to_dict()\n",
    "relevantes = set(relev)\n",
    "irrelevantes = set(irrelev)\n",
    "total_pal = len(relev) + len(irrelev)\n"
   ]
  },
  {
   "cell_type": "markdown",
   "metadata": {},
   "source": [
    "Logo em seguida foi realizado a construção do Classificador Naive-Bayes e a implementação do smoothing de Laplace, para evitar que palavras desconhecidas não recebam valores nulos e, com isso, prejudiquem o calculo final da probabilidade."
   ]
  },
  {
   "cell_type": "code",
   "execution_count": 685,
   "metadata": {},
   "outputs": [],
   "source": [
    "def classificador(tt):\n",
    "    tweets_teste_split = tt.split()\n",
    "    prob_irrelev = 1\n",
    "    prob_relev = 1\n",
    "    for p in tweets_teste_split:\n",
    "        if p in dic_relev:\n",
    "            prob_relev *= (dic_relev[p]+1)/(len(relev)+(total_pal))\n",
    "        if p in dic_irrelev:\n",
    "            prob_irrelev *= (dic_irrelev[p]+1)/(len(irrelev)+(total_pal))\n",
    "        else:\n",
    "            prob_irrelev *= 1/(len(irrelev)+(total_pal))\n",
    "            prob_relev *= 1/(len(relev)+(total_pal))\n",
    "\n",
    "    if prob_relev > prob_irrelev:\n",
    "        return 1\n",
    "    else:\n",
    "        return 0"
   ]
  },
  {
   "cell_type": "code",
   "execution_count": 686,
   "metadata": {},
   "outputs": [
    {
     "name": "stdout",
     "output_type": "stream",
     "text": [
      "Resultados do classificador:\n",
      "Negativos verdadeiros: 10.5%\n",
      "Negativos falsos: 33.5%\n",
      "Positivos verdadeiros: 45.5%\n",
      "Positivos falsos: 10.5%\n"
     ]
    }
   ],
   "source": [
    "resultados_tt = []\n",
    "\n",
    "for e in range(0, len(tabela_teste[\"Teste\"])):\n",
    "    resultados_tt.append(classificador(tabela_teste.loc[e,\"Teste\"]))\n",
    "    \n",
    "tabela_teste[\"Classificador\"] = resultados_tt\n",
    "\n",
    "        \n",
    "verdadeiros_positivos = 0\n",
    "falsos_positivos = 0\n",
    "verdadeiros_negativos = 0\n",
    "falsos_negativos = 0\n",
    "\n",
    "tabela = len(tabela_teste[\"Classificador\"])\n",
    "\n",
    "for i in range(0, tabela):\n",
    "    \n",
    "    valor_manual = (tabela_teste.loc[i,\"Classificador\"])\n",
    "    valor_dado = (tabela_teste.loc[i, \"Classificando Tweets\"])\n",
    "    \n",
    "    if valor_manual == 1 and valor_dado == 0:\n",
    "        falsos_positivos += 1\n",
    "    if valor_manual == 1 and valor_dado == 1:\n",
    "        verdadeiros_positivos += 1\n",
    "    if valor_manual == 0 and valor_dado == 0:\n",
    "        verdadeiros_negativos += 1\n",
    "    if valor_manual == 0 and valor_dado == 1:\n",
    "        falsos_negativos += 1\n",
    "        \n",
    "        \n",
    "tabela = len(tabela_teste[\"Classificador\"])\n",
    "posit_fake = falsos_positivos/tabela     \n",
    "posit_true = verdadeiros_positivos/tabela\n",
    "neg_true = verdadeiros_negativos/tabela\n",
    "neg_fake = falsos_negativos/tabela\n",
    "\n",
    "print(\"Resultados do classificador:\")\n",
    "print(\"Negativos verdadeiros: \" + str(neg_true*100) + \"%\")\n",
    "print(\"Negativos falsos: \" + str(neg_fake*100)+ \"%\")\n",
    "print(\"Positivos verdadeiros: \" + str(posit_true*100) + \"%\")\n",
    "print(\"Positivos falsos: \" + str(posit_fake*100) + \"%\")\n"
   ]
  },
  {
   "cell_type": "markdown",
   "metadata": {},
   "source": [
    "___\n",
    "### Verificando a performance\n",
    "\n",
    "Agora você deve testar o seu classificador com a base de Testes."
   ]
  },
  {
   "cell_type": "code",
   "execution_count": 687,
   "metadata": {},
   "outputs": [
    {
     "name": "stdout",
     "output_type": "stream",
     "text": [
      "Resultados do classificador:\n",
      "Negativos verdadeiros: 10.5%\n",
      "Negativos falsos: 33.5%\n",
      "Positivos verdadeiros: 45.5%\n",
      "Positivos falsos: 10.5%\n"
     ]
    }
   ],
   "source": [
    "resultados_tt = []\n",
    "\n",
    "for e in range(0, len(tabela_teste[\"Teste\"])):\n",
    "    resultados_tt.append(classificador(tabela_teste.loc[e,\"Teste\"]))\n",
    "    \n",
    "tabela_teste[\"Classificador\"] = resultados_tt\n",
    "\n",
    "        \n",
    "verdadeiros_positivos = 0\n",
    "falsos_positivos = 0\n",
    "verdadeiros_negativos = 0\n",
    "falsos_negativos = 0\n",
    "\n",
    "tabela = len(tabela_teste[\"Classificador\"])\n",
    "\n",
    "for i in range(0, tabela):\n",
    "    \n",
    "    valor_manual = (tabela_teste.loc[i,\"Classificador\"])\n",
    "    valor_dado = (tabela_teste.loc[i, \"Classificando Tweets\"])\n",
    "    \n",
    "    if valor_manual == 1 and valor_dado == 0:\n",
    "        falsos_positivos += 1\n",
    "    if valor_manual == 1 and valor_dado == 1:\n",
    "        verdadeiros_positivos += 1\n",
    "    if valor_manual == 0 and valor_dado == 0:\n",
    "        verdadeiros_negativos += 1\n",
    "    if valor_manual == 0 and valor_dado == 1:\n",
    "        falsos_negativos += 1\n",
    "        \n",
    "        \n",
    "tabela = len(tabela_teste[\"Classificador\"])\n",
    "posit_fake = falsos_positivos/tabela     \n",
    "posit_true = verdadeiros_positivos/tabela\n",
    "neg_true = verdadeiros_negativos/tabela\n",
    "neg_fake = falsos_negativos/tabela\n",
    "\n",
    "print(\"Resultados do classificador:\")\n",
    "print(\"Negativos verdadeiros: \" + str(neg_true*100) + \"%\")\n",
    "print(\"Negativos falsos: \" + str(neg_fake*100)+ \"%\")\n",
    "print(\"Positivos verdadeiros: \" + str(posit_true*100) + \"%\")\n",
    "print(\"Positivos falsos: \" + str(posit_fake*100) + \"%\")"
   ]
  },
  {
   "cell_type": "markdown",
   "metadata": {},
   "source": [
    "___\n",
    "### Concluindo"
   ]
  },
  {
   "cell_type": "code",
   "execution_count": 688,
   "metadata": {},
   "outputs": [
    {
     "data": {
      "image/png": "[encoded data removed]",
      "text/plain": [
       "<Figure size 432x288 with 1 Axes>"
      ]
     },
     "metadata": {},
     "output_type": "display_data"
    }
   ],
   "source": [
    "pie = pd.DataFrame({\"\": [posit_fake, posit_true, neg_true, neg_fake]}, index = [\"Positivos falsos\", \"Positivos verdadeiros\", \"Negativos verdadeiros\", \"Negativos falsos\"])\n",
    "plot = pie.plot.pie(y='', legend= False)"
   ]
  },
  {
   "cell_type": "markdown",
   "metadata": {},
   "source": [
    "Após a análise do comportamento de sentimentos por Naive-Bayes, obteve-se o comportamento descrito no gráfico acima. Pode-se observar que, relativamente, o classificador apresentou melhor performance em relação aos comentários positivos verdadeiros (45,5%). Em compensação, os tweets negativos e verdadeiros foram certamente classificados em apenas 10,5% dos exemplos de teste. Os tweets positivos falsos representaram também, uma precisão de 10,5%. E, por fim, os negativos falsos, 33,5%. Pode-se levantar algumas hipóteses para explicar o baixo aproveitamento do classificador.\n",
    "\n",
    "Primeiramente, uma possível falta de coerência durante a classificação manual poderia tornar o classificador menos eficiente. Durante a classificação de todos os 500 tweets, é comum que haja uma certa incoerência, influenciando assim, o desempenho do programa. Além disso, a questão de sarcasmo e dupla negação também é muito peculiar. Devido ao fato que o classificador estuda somente as palavras em si, é impossível considerar o sentido intrínseco de uma frase. Dessa forma, o uso de duplas negações ou sarcasmos que alteram o sentido instintivo da sentença, prejudicam a qualidade do classificador.\n",
    "\n",
    "Apesar da performance do classificador não ter sido tão precisa, é necessário considerar que durante o processo, apenas uma pequena quantidade de tweets foi estudada. Para que um melhor resultado fosse obtido, seria necessário um maior leque de tweets para uma classificação inicial. Por meio de mais aperfeiçoamento, como uma classificação mais detalhada como: muito relevante, relevante, neutro, irrelevante e muito irrelevante; seria possível tornar o classificador ainda melhor.\n",
    "\n",
    "Um outro exemplo para a aplicação de Naive-Bayes seria na aplicação de um diagnóstico de uma nova doença: saber se o resultado de um determinado exame comprova necessariamente que um usuário possui ou não uma certa doença.\n",
    "Além disso, pode ser usado como um programa de detectação de e-mails “spam”. E, como último exemplo, classificar um cliente como de alto, médio ou baixo risco para a concessão de crédito.\n",
    "\n",
    "É importante mencionar também que é impossível alimentar a base de treinamento utilizando diretamente o classificador, pois estes não estariam classificados com a mesmo critério que os demais, mas sim classificados a partir do algoritmo do classificador, o qual apresenta erros de precisão."
   ]
  },
  {
   "cell_type": "markdown",
   "metadata": {},
   "source": [
    "## Aperfeiçoamento:\n",
    "\n",
    "Os trabalhos vão evoluir em conceito dependendo da quantidade de itens avançados:\n",
    "\n",
    "* Limpar: \\n, :, \", ', (, ), etc SEM remover emojis\n",
    "* Corrigir separação de espaços entre palavras e emojis ou emojis e emojis\n",
    "* Propor outras limpezas e transformações que não afetem a qualidade da informação ou classificação\n",
    "* Criar categorias intermediárias de relevância baseadas na probabilidade: ex.: muito relevante, relevante, neutro, irrelevante, muito irrelevante (3 categorias: C, mais categorias conta para B)\n",
    "* Explicar por que não posso usar o próprio classificador para gerar mais amostras de treinamento\n",
    "* Propor diferentes cenários para Naïve Bayes fora do contexto do projeto\n",
    "* Sugerir e explicar melhorias reais com indicações concretas de como implementar (indicar como fazer e indicar material de pesquisa)\n",
    "* Montar um dashboard que periodicamente realiza análise de sentimento e visualiza estes dados"
   ]
  },
  {
   "cell_type": "markdown",
   "metadata": {},
   "source": [
    "# Referências"
   ]
  },
  {
   "cell_type": "markdown",
   "metadata": {},
   "source": [
    "[Naive Bayes and Text Classification](https://arxiv.org/pdf/1410.5329.pdf)  **Mais completo**\n",
    "\n",
    "[A practical explanation of a Naive Bayes Classifier](https://monkeylearn.com/blog/practical-explanation-naive-bayes-classifier/) **Mais simples**"
   ]
  },
  {
   "cell_type": "code",
   "execution_count": null,
   "metadata": {},
   "outputs": [],
   "source": []
  }
 ],
 "metadata": {
  "kernelspec": {
   "display_name": "Python 3",
   "language": "python",
   "name": "python3"
  },
  "language_info": {
   "codemirror_mode": {
    "name": "ipython",
    "version": 3
   },
   "file_extension": ".py",
   "mimetype": "text/x-python",
   "name": "python",
   "nbconvert_exporter": "python",
   "pygments_lexer": "ipython3",
   "version": "3.7.1"
  }
 },
 "nbformat": 4,
 "nbformat_minor": 4
}
